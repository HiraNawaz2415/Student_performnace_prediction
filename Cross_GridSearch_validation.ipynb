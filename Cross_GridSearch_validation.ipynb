[
 {
  "cell_type": "markdown",
  "metadata": {},
  "source": [
   "# Cross Validation using Pipeline\n",
   "- Cross validation is a way to check how well your machine learning model will perform on new, unseen data.\n",
   "\n",
   "- Instead of just training your model once and testing it once, you split your data into several parts (folds).\n",
   "\n",
   "- You train your model on some parts and test it on the remaining part.\n",
   "\n",
   "- You repeat this multiple times, each time with a different test part.\n",
   "\n",
   "- At the end, you average the results to get a better estimate of how your model performs overall."
  ]
 },
 {
  "cell_type": "code",
  "execution_count": null,
  "metadata": {},
  "outputs": [],
  "source": [
   "from sklearn.model_selection import cross_val_score  # Perform cross-validation\n",
   "\n",
   "scores = cross_val_score(pipeline, X, y, cv=5, scoring='accuracy')\n",
   "print(\"Cross-validation accuracy scores:\", scores)\n",
   "print(\"Average accuracy:\", scores.mean())"
  ]
 },
 {
  "cell_type": "markdown",
  "metadata": {},
  "source": [
   "# Grid Search using Pipeline\n",
   "### What is GridSearch?\n",
   "- GridSearchCV stands for Grid Search Cross Validation.\n",
   "- It is a way to automatically try different combinations of model parameters to find the best ones that give the highest accuracy (or any other score).\n",
   "- It uses cross-validation under the hood to evaluate each combination."
  ]
 },
 {
  "cell_type": "code",
  "execution_count": null,
  "metadata": {},
  "outputs": [],
  "source": [
   "from sklearn.model_selection import GridSearchCV\n",
   "import joblib\n",
   "\n",
   "param_grid = {\n",
   "    'model__max_depth': [3, 5, 10],\n",
   "    'model__criterion': ['gini', 'entropy']\n",
   "}\n",
   "\n",
   "grid_search = GridSearchCV(pipeline, param_grid, cv=5, scoring='accuracy')\n",
   "grid_search.fit(X_train, y_train)\n",
   "\n",
   "# Save the best model\n",
   "joblib.dump(grid_search.best_estimator_, 'best_pipeline.pkl')"
  ]
 }
]
