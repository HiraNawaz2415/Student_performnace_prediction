{
 "cells": [
  {
   "cell_type": "markdown",
   "metadata": {},
   "source": [
    "# Load and Use Saved Pipeline Model\n",
    "- Use `joblib` to load the trained pipeline.\n",
    "- Provide new input data as a DataFrame.\n",
    "- Use `.predict()` to classify the new instance."
   ]
  },
  {
   "cell_type": "code",
   "execution_count": null,
   "metadata": {},
   "outputs": [],
   "source": [
    "import joblib\n",
    "import pandas as pd\n",
    "\n",
    "# Load the saved model\n",
    "model = joblib.load('best_pipeline.pkl')\n",
    "\n",
    "# New student data for prediction\n",
    "new_data = pd.DataFrame([{\n",
    "    'parental level of education': \"associate's degree\",\n",
    "    'gender': 'male',\n",
    "    'race/ethnicity': 'group C',\n",
    "    'lunch': 'free/reduced',\n",
    "    'test preparation course': 'none',\n",
    "    'math score': 5,\n",
    "    'reading score': 10,\n",
    "    'writing score': 5\n",
    "}])\n",
    "\n",
    "# Predict performance\n",
    "prediction = model.predict(new_data)\n",
    "print(\"Predicted class:\", prediction[0])"
   ]
  }
 ],
 "metadata": {
  "kernelspec": {
   "display_name": "Python 3",
   "language": "python",
   "name": "python3"
  },
  "language_info": {
   "name": "python",
   "version": "3.8"
  }
 },
 "nbformat": 4,
 "nbformat_minor": 2
}
